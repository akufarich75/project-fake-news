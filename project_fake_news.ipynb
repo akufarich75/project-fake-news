{
  "nbformat": 4,
  "nbformat_minor": 0,
  "metadata": {
    "colab": {
      "name": "project fake news.ipynb",
      "provenance": [],
      "collapsed_sections": []
    },
    "kernelspec": {
      "name": "python3",
      "display_name": "Python 3"
    }
  },
  "cells": [
    {
      "cell_type": "code",
      "metadata": {
        "id": "85Cue0KK-Sui"
      },
      "source": [
        "import numpy as np\n",
        "import pandas as pd\n",
        "import matplotlib.pyplot as plt\n",
        "import seaborn as sns\n",
        "\n",
        "import nltk\n",
        "import re\n",
        "import string"
      ],
      "execution_count": 1,
      "outputs": []
    },
    {
      "cell_type": "code",
      "metadata": {
        "id": "wNQSrgzT-dZh"
      },
      "source": [
        "data= pd.read_excel(\"train_BDC.xlsx\")"
      ],
      "execution_count": 2,
      "outputs": []
    },
    {
      "cell_type": "code",
      "metadata": {
        "id": "gWZxEgBg-duw",
        "colab": {
          "base_uri": "https://localhost:8080/",
          "height": 206
        },
        "outputId": "def4c84e-2486-41d9-8813-ff1ca84fe863"
      },
      "source": [
        "data.head()"
      ],
      "execution_count": 3,
      "outputs": [
        {
          "output_type": "execute_result",
          "data": {
            "text/html": [
              "<div>\n",
              "<style scoped>\n",
              "    .dataframe tbody tr th:only-of-type {\n",
              "        vertical-align: middle;\n",
              "    }\n",
              "\n",
              "    .dataframe tbody tr th {\n",
              "        vertical-align: top;\n",
              "    }\n",
              "\n",
              "    .dataframe thead th {\n",
              "        text-align: right;\n",
              "    }\n",
              "</style>\n",
              "<table border=\"1\" class=\"dataframe\">\n",
              "  <thead>\n",
              "    <tr style=\"text-align: right;\">\n",
              "      <th></th>\n",
              "      <th>ID</th>\n",
              "      <th>label</th>\n",
              "      <th>tanggal</th>\n",
              "      <th>judul</th>\n",
              "      <th>narasi</th>\n",
              "      <th>nama file gambar</th>\n",
              "    </tr>\n",
              "  </thead>\n",
              "  <tbody>\n",
              "    <tr>\n",
              "      <th>0</th>\n",
              "      <td>71</td>\n",
              "      <td>1</td>\n",
              "      <td>2020-08-17 00:00:00</td>\n",
              "      <td>Pemakaian Masker Menyebabkan Penyakit Legionna...</td>\n",
              "      <td>A caller to a radio talk show recently shared ...</td>\n",
              "      <td>71.jpg</td>\n",
              "    </tr>\n",
              "    <tr>\n",
              "      <th>1</th>\n",
              "      <td>461</td>\n",
              "      <td>1</td>\n",
              "      <td>2020-07-17 00:00:00</td>\n",
              "      <td>Instruksi Gubernur Jateng tentang penilangan  ...</td>\n",
              "      <td>Yth.Seluruh Anggota Grup Sesuai Instruksi Gube...</td>\n",
              "      <td>461.png</td>\n",
              "    </tr>\n",
              "    <tr>\n",
              "      <th>2</th>\n",
              "      <td>495</td>\n",
              "      <td>1</td>\n",
              "      <td>2020-07-13 00:00:00</td>\n",
              "      <td>Foto Jim Rohn: Jokowi adalah presiden terbaik ...</td>\n",
              "      <td>Jokowi adalah presiden terbaik dlm sejarah ban...</td>\n",
              "      <td>495.png</td>\n",
              "    </tr>\n",
              "    <tr>\n",
              "      <th>3</th>\n",
              "      <td>550</td>\n",
              "      <td>1</td>\n",
              "      <td>2020-07-08 00:00:00</td>\n",
              "      <td>ini bukan politik, tapi kenyataan Pak Jokowi b...</td>\n",
              "      <td>Maaf Mas2 dan Mbak2, ini bukan politik, tapi k...</td>\n",
              "      <td>550.png</td>\n",
              "    </tr>\n",
              "    <tr>\n",
              "      <th>4</th>\n",
              "      <td>681</td>\n",
              "      <td>1</td>\n",
              "      <td>2020-06-24 00:00:00</td>\n",
              "      <td>Foto Kadrun kalo lihat foto ini panas dingin</td>\n",
              "      <td>Kadrun kalo lihat foto ini panas dingin . .</td>\n",
              "      <td>681.jpg</td>\n",
              "    </tr>\n",
              "  </tbody>\n",
              "</table>\n",
              "</div>"
            ],
            "text/plain": [
              "    ID  ...  nama file gambar\n",
              "0   71  ...            71.jpg\n",
              "1  461  ...           461.png\n",
              "2  495  ...           495.png\n",
              "3  550  ...           550.png\n",
              "4  681  ...           681.jpg\n",
              "\n",
              "[5 rows x 6 columns]"
            ]
          },
          "metadata": {
            "tags": []
          },
          "execution_count": 3
        }
      ]
    },
    {
      "cell_type": "code",
      "metadata": {
        "id": "Sl4RHSTE_3YI",
        "colab": {
          "base_uri": "https://localhost:8080/"
        },
        "outputId": "e5b6a3ec-d179-43a2-b51a-b7b3b7cd9d51"
      },
      "source": [
        "data.info()#gaada missing values"
      ],
      "execution_count": 4,
      "outputs": [
        {
          "output_type": "stream",
          "text": [
            "<class 'pandas.core.frame.DataFrame'>\n",
            "RangeIndex: 4231 entries, 0 to 4230\n",
            "Data columns (total 6 columns):\n",
            " #   Column            Non-Null Count  Dtype \n",
            "---  ------            --------------  ----- \n",
            " 0   ID                4231 non-null   int64 \n",
            " 1   label             4231 non-null   int64 \n",
            " 2   tanggal           4231 non-null   object\n",
            " 3   judul             4231 non-null   object\n",
            " 4   narasi            4231 non-null   object\n",
            " 5   nama file gambar  4231 non-null   object\n",
            "dtypes: int64(2), object(4)\n",
            "memory usage: 198.5+ KB\n"
          ],
          "name": "stdout"
        }
      ]
    },
    {
      "cell_type": "code",
      "metadata": {
        "id": "OqblogDzK_Tz",
        "colab": {
          "base_uri": "https://localhost:8080/"
        },
        "outputId": "feaf4cfc-f335-4de9-bed2-1d58bf83799b"
      },
      "source": [
        "data.isna().sum()#validasi missing value"
      ],
      "execution_count": 5,
      "outputs": [
        {
          "output_type": "execute_result",
          "data": {
            "text/plain": [
              "ID                  0\n",
              "label               0\n",
              "tanggal             0\n",
              "judul               0\n",
              "narasi              0\n",
              "nama file gambar    0\n",
              "dtype: int64"
            ]
          },
          "metadata": {
            "tags": []
          },
          "execution_count": 5
        }
      ]
    },
    {
      "cell_type": "code",
      "metadata": {
        "id": "0T0j1bymK_kM"
      },
      "source": [
        "cat = ['judul','narasi']\n",
        "num = ['label']"
      ],
      "execution_count": 6,
      "outputs": []
    },
    {
      "cell_type": "code",
      "metadata": {
        "id": "sOA9n7vPLaNB",
        "colab": {
          "base_uri": "https://localhost:8080/"
        },
        "outputId": "cd32bb15-cb9d-46a7-f265-ab9f308e47d3"
      },
      "source": [
        "for col in cat:\n",
        "    print(f'''Value count kolom {col}:     ''')\n",
        "    print(data[col].value_counts())\n",
        "    print()"
      ],
      "execution_count": 7,
      "outputs": [
        {
          "output_type": "stream",
          "text": [
            "Value count kolom judul:     \n",
            "Ketua KPU Imbau Masyarakat Hormati Hasil Pemilu Walau Banyak Kecurangan      2\n",
            "Didit Prabowo akan menikahkan para gay                                       2\n",
            "Mengenai Pemerintah Cabut Sertifikasi Halal Dari MUI                         2\n",
            ": Zulkifli Hasan Sebut 5 Fraksi di DPR Dukung LGBT                           2\n",
            "Jokowi Dikatakan Seperti Anak Kecil dan Bodoh oleh Media Luar                2\n",
            "                                                                            ..\n",
            "Akun Whatsapp Kepala Dinkes Kota Bengkulu Meminta Transfer Uang              1\n",
            "My Roti Kloning Sari Roti                                                    1\n",
            "Satgas Pangan Polri Pastikan Tak Ada Telur Palsu Beredar di Pasar            1\n",
            "Bila nampak dalam perut ikan sejenis telur ikan seperti dlm gambar ini...    1\n",
            "MENGETAHUI KANDUNGAN PASTA GIGI DARI KODE WARNA                              1\n",
            "Name: judul, Length: 4219, dtype: int64\n",
            "\n",
            "Value count kolom narasi:     \n",
            "Cek tangkapan layar.                                                                                                                                                                                                                                                                                                                                               5\n",
            "Cek tangkapan layar                                                                                                                                                                                                                                                                                                                                                3\n",
            "Bersama Aribowo Sasmito, Co-Founder & Ketua Komite Pemeriksa Fakta MAFINDO                                                                                                                                                                                                                                                                                         2\n",
            "Weird things happening at deserted Japani park rohini, (due to corona fear, nobody visits park) ghost was exercising after 7 pm witnessed by full police team.                                                                                                                                                                                                     2\n",
            "Siapa yang disalahkan ?\\n Saling lempar tanggungjawab\\n Soal bocornya NIK dan nomor KK\\n Sekarang dilempar menjadi tanggungjawab provider.\\n .\\n Data kependudukan kartu SIM prabayar bocor, Menkominfo: Datangi operator. https://youtu.be/JDPMBDYvYx8\\n .\\n Ikuti berita terbaru di cnnindonesia.com\\n #CNNIndonesia\\n \\n .⏬⏬                                    2\n",
            "                                                                                                                                                                                                                                                                                                                                                                  ..\n",
            "Selamat Malam Krama Bali.\\nSaya menyayangkan atas beredarnya gambar ini. Saya perlu klarifikasi bahwa tidak ada satupun agenda saya untuk menjadi Keynote Speaker dalam Pesona Wisata Halal tersebut.\\nSaya menghimbau kepada pihak yang menyelenggrakan untuk melakukan koreksi secepatnya agar tidak menimbulkan kegaduhan di tengah masyarakat.\\nTerimakasih    1\n",
            "“Itu bukan di kami, itu hoax, di kami ada juga kejadian pada hari minggu tapi tidak sperti yang di dalam video itu, tidak ada air sebesar itu dan genangan air,” ujar Corporate Communications GM Transmart Carrefour Tajur, Satria Hamid,” Selasa (26/6).                                                                                                         1\n",
            "Hoax Politik dan (Minimnya) Keteladanan Elit                                                                                                                                                                                                                                                                                                                       1\n",
            "Data menunjukkan ACEH hanya 1 korban. Gak bisa melawan ketetapan Allah dgn Akal akalan manusia. Datangi Rumah Allah.                                                                                                                                                                                                                                               1\n",
            "Lihat wabah virus corona setelah diperbesar 2.600 kali dan bagaimana cara membasminya.                                                                                                                                                                                                                                                                             1\n",
            "Name: narasi, Length: 4209, dtype: int64\n",
            "\n"
          ],
          "name": "stdout"
        }
      ]
    },
    {
      "cell_type": "code",
      "metadata": {
        "id": "NbAupe3WLaXw",
        "colab": {
          "base_uri": "https://localhost:8080/",
          "height": 279
        },
        "outputId": "6b5fa85f-a5a1-4e9a-818d-c5b450fc4fee"
      },
      "source": [
        "sns.countplot(y='label', data=data); #lebih banyak hoax news(imbalance data target)"
      ],
      "execution_count": 8,
      "outputs": [
        {
          "output_type": "display_data",
          "data": {
            "image/png": "[encoded data removed]",
            "text/plain": [
              "<Figure size 432x288 with 1 Axes>"
            ]
          },
          "metadata": {
            "tags": [],
            "needs_background": "light"
          }
        }
      ]
    },
    {
      "cell_type": "code",
      "metadata": {
        "id": "WN5ZuIxaLaeR",
        "colab": {
          "base_uri": "https://localhost:8080/"
        },
        "outputId": "59a3c94c-37ca-4bff-bad6-9b4930af3993"
      },
      "source": [
        "data['judul'].unique()"
      ],
      "execution_count": 9,
      "outputs": [
        {
          "output_type": "execute_result",
          "data": {
            "text/plain": [
              "array(['Pemakaian Masker Menyebabkan Penyakit Legionnaires',\n",
              "       'Instruksi Gubernur Jateng tentang penilangan  bagi yg tidak bermasker di muka umum Rp.150.000 menggunakan e-tilang Via apps PIKOBAR',\n",
              "       'Foto Jim Rohn: Jokowi adalah presiden terbaik dlm sejarah bangsa Indonesia',\n",
              "       ...,\n",
              "       'Gambar Denny Siregar Musuh Warga Tasikmalaya di Belakang Truk',\n",
              "       'Kaesang: Bapak Saya dengan Kesederhaan Bisa Nipu Rakyat Indonesia Kenapa Saya Tidak?',\n",
              "       'Laser dari termometer gun akan merusak struktur otak'],\n",
              "      dtype=object)"
            ]
          },
          "metadata": {
            "tags": []
          },
          "execution_count": 9
        }
      ]
    },
    {
      "cell_type": "code",
      "metadata": {
        "id": "AJDBcPcKL5o4",
        "colab": {
          "base_uri": "https://localhost:8080/"
        },
        "outputId": "b36ea853-25ad-45c3-e745-af7738ef8912"
      },
      "source": [
        "data['label'].head()"
      ],
      "execution_count": 10,
      "outputs": [
        {
          "output_type": "execute_result",
          "data": {
            "text/plain": [
              "0    1\n",
              "1    1\n",
              "2    1\n",
              "3    1\n",
              "4    1\n",
              "Name: label, dtype: int64"
            ]
          },
          "metadata": {
            "tags": []
          },
          "execution_count": 10
        }
      ]
    },
    {
      "cell_type": "code",
      "metadata": {
        "id": "Co2Z-BsEL50F"
      },
      "source": [
        "#data cleaning\n",
        "import re\n",
        "def clean_train_data(x):\n",
        "    teks = x\n",
        "    teks = teks.lower()\n",
        "    teks = re.sub('\\[.*?\\]', '', teks) # remove square brackets\n",
        "    teks = re.sub(r'[^\\w\\s]','',teks) # remove punctuation\n",
        "    teks = re.sub('\\w*\\d\\w*', '', teks) # remove words containing numbers\n",
        "    teks = re.sub(r'http\\S+', '', teks)\n",
        "    teks = re.sub('\\n', '', teks)\n",
        "    return teks"
      ],
      "execution_count": 11,
      "outputs": []
    },
    {
      "cell_type": "code",
      "metadata": {
        "id": "k07v2Dk9L572",
        "colab": {
          "base_uri": "https://localhost:8080/",
          "height": 206
        },
        "outputId": "3429eb6a-7e99-4c1d-c2f0-7128f371a400"
      },
      "source": [
        "clean_combine_data = data.copy()\n",
        "clean_combine_data['narasi'] = data.narasi.apply(lambda x : clean_train_data(x))\n",
        "clean_combine_data.head()"
      ],
      "execution_count": 12,
      "outputs": [
        {
          "output_type": "execute_result",
          "data": {
            "text/html": [
              "<div>\n",
              "<style scoped>\n",
              "    .dataframe tbody tr th:only-of-type {\n",
              "        vertical-align: middle;\n",
              "    }\n",
              "\n",
              "    .dataframe tbody tr th {\n",
              "        vertical-align: top;\n",
              "    }\n",
              "\n",
              "    .dataframe thead th {\n",
              "        text-align: right;\n",
              "    }\n",
              "</style>\n",
              "<table border=\"1\" class=\"dataframe\">\n",
              "  <thead>\n",
              "    <tr style=\"text-align: right;\">\n",
              "      <th></th>\n",
              "      <th>ID</th>\n",
              "      <th>label</th>\n",
              "      <th>tanggal</th>\n",
              "      <th>judul</th>\n",
              "      <th>narasi</th>\n",
              "      <th>nama file gambar</th>\n",
              "    </tr>\n",
              "  </thead>\n",
              "  <tbody>\n",
              "    <tr>\n",
              "      <th>0</th>\n",
              "      <td>71</td>\n",
              "      <td>1</td>\n",
              "      <td>2020-08-17 00:00:00</td>\n",
              "      <td>Pemakaian Masker Menyebabkan Penyakit Legionna...</td>\n",
              "      <td>a caller to a radio talk show recently shared ...</td>\n",
              "      <td>71.jpg</td>\n",
              "    </tr>\n",
              "    <tr>\n",
              "      <th>1</th>\n",
              "      <td>461</td>\n",
              "      <td>1</td>\n",
              "      <td>2020-07-17 00:00:00</td>\n",
              "      <td>Instruksi Gubernur Jateng tentang penilangan  ...</td>\n",
              "      <td>ythseluruh anggota grup sesuai instruksi guber...</td>\n",
              "      <td>461.png</td>\n",
              "    </tr>\n",
              "    <tr>\n",
              "      <th>2</th>\n",
              "      <td>495</td>\n",
              "      <td>1</td>\n",
              "      <td>2020-07-13 00:00:00</td>\n",
              "      <td>Foto Jim Rohn: Jokowi adalah presiden terbaik ...</td>\n",
              "      <td>jokowi adalah presiden terbaik dlm sejarah ban...</td>\n",
              "      <td>495.png</td>\n",
              "    </tr>\n",
              "    <tr>\n",
              "      <th>3</th>\n",
              "      <td>550</td>\n",
              "      <td>1</td>\n",
              "      <td>2020-07-08 00:00:00</td>\n",
              "      <td>ini bukan politik, tapi kenyataan Pak Jokowi b...</td>\n",
              "      <td>maaf  dan  ini bukan politik tapi kenyataan pa...</td>\n",
              "      <td>550.png</td>\n",
              "    </tr>\n",
              "    <tr>\n",
              "      <th>4</th>\n",
              "      <td>681</td>\n",
              "      <td>1</td>\n",
              "      <td>2020-06-24 00:00:00</td>\n",
              "      <td>Foto Kadrun kalo lihat foto ini panas dingin</td>\n",
              "      <td>kadrun kalo lihat foto ini panas dingin</td>\n",
              "      <td>681.jpg</td>\n",
              "    </tr>\n",
              "  </tbody>\n",
              "</table>\n",
              "</div>"
            ],
            "text/plain": [
              "    ID  ...  nama file gambar\n",
              "0   71  ...            71.jpg\n",
              "1  461  ...           461.png\n",
              "2  495  ...           495.png\n",
              "3  550  ...           550.png\n",
              "4  681  ...           681.jpg\n",
              "\n",
              "[5 rows x 6 columns]"
            ]
          },
          "metadata": {
            "tags": []
          },
          "execution_count": 12
        }
      ]
    },
    {
      "cell_type": "code",
      "metadata": {
        "id": "7NY7uSk_L55i",
        "colab": {
          "base_uri": "https://localhost:8080/",
          "height": 206
        },
        "outputId": "1ac03e3e-4cdc-4f18-f316-0063a67c806d"
      },
      "source": [
        "clean_combine_data.tail()"
      ],
      "execution_count": 13,
      "outputs": [
        {
          "output_type": "execute_result",
          "data": {
            "text/html": [
              "<div>\n",
              "<style scoped>\n",
              "    .dataframe tbody tr th:only-of-type {\n",
              "        vertical-align: middle;\n",
              "    }\n",
              "\n",
              "    .dataframe tbody tr th {\n",
              "        vertical-align: top;\n",
              "    }\n",
              "\n",
              "    .dataframe thead th {\n",
              "        text-align: right;\n",
              "    }\n",
              "</style>\n",
              "<table border=\"1\" class=\"dataframe\">\n",
              "  <thead>\n",
              "    <tr style=\"text-align: right;\">\n",
              "      <th></th>\n",
              "      <th>ID</th>\n",
              "      <th>label</th>\n",
              "      <th>tanggal</th>\n",
              "      <th>judul</th>\n",
              "      <th>narasi</th>\n",
              "      <th>nama file gambar</th>\n",
              "    </tr>\n",
              "  </thead>\n",
              "  <tbody>\n",
              "    <tr>\n",
              "      <th>4226</th>\n",
              "      <td>999287</td>\n",
              "      <td>1</td>\n",
              "      <td>2016-01-17 00:00:00</td>\n",
              "      <td>: KPK Dilarang Membawa Brimob Bersenjata Masuk...</td>\n",
              "      <td>kpk dilarang membawa brimob bersenjata masuk g...</td>\n",
              "      <td>999287.jpg</td>\n",
              "    </tr>\n",
              "    <tr>\n",
              "      <th>4227</th>\n",
              "      <td>999472</td>\n",
              "      <td>1</td>\n",
              "      <td>2020-08-20 00:00:00</td>\n",
              "      <td>Foto pejabat keuangan dibawah palu arit</td>\n",
              "      <td>jangan mau dialihkan kepada pakaian adat fokus...</td>\n",
              "      <td>999472.png</td>\n",
              "    </tr>\n",
              "    <tr>\n",
              "      <th>4228</th>\n",
              "      <td>999501</td>\n",
              "      <td>1</td>\n",
              "      <td>2020-08-17 00:00:00</td>\n",
              "      <td>Gambar Denny Siregar Musuh Warga Tasikmalaya d...</td>\n",
              "      <td>akhir nya bisa terkenal bang denny</td>\n",
              "      <td>999501.jpg</td>\n",
              "    </tr>\n",
              "    <tr>\n",
              "      <th>4229</th>\n",
              "      <td>999848</td>\n",
              "      <td>1</td>\n",
              "      <td>2020-07-21 00:00:00</td>\n",
              "      <td>Kaesang: Bapak Saya dengan Kesederhaan Bisa Ni...</td>\n",
              "      <td>bapak saya dengan kesederhaan bisa nipu rakyat...</td>\n",
              "      <td>999848.jpg</td>\n",
              "    </tr>\n",
              "    <tr>\n",
              "      <th>4230</th>\n",
              "      <td>999860</td>\n",
              "      <td>1</td>\n",
              "      <td>2020-07-20 00:00:00</td>\n",
              "      <td>Laser dari termometer gun akan merusak struktu...</td>\n",
              "      <td>in saya nolak kalau anda mau periksa bukan per...</td>\n",
              "      <td>999860.png</td>\n",
              "    </tr>\n",
              "  </tbody>\n",
              "</table>\n",
              "</div>"
            ],
            "text/plain": [
              "          ID  ...  nama file gambar\n",
              "4226  999287  ...        999287.jpg\n",
              "4227  999472  ...        999472.png\n",
              "4228  999501  ...        999501.jpg\n",
              "4229  999848  ...        999848.jpg\n",
              "4230  999860  ...        999860.png\n",
              "\n",
              "[5 rows x 6 columns]"
            ]
          },
          "metadata": {
            "tags": []
          },
          "execution_count": 13
        }
      ]
    },
    {
      "cell_type": "code",
      "metadata": {
        "id": "FZUzM6s2L53n",
        "colab": {
          "base_uri": "https://localhost:8080/"
        },
        "outputId": "d86f6943-37ff-4164-c77c-5408d8984c7f"
      },
      "source": [
        "nltk.download('stopwords')\n",
        "ind_stopwords = nltk.corpus.stopwords.words(\"indonesian\")"
      ],
      "execution_count": 14,
      "outputs": [
        {
          "output_type": "stream",
          "text": [
            "[nltk_data] Downloading package stopwords to /root/nltk_data...\n",
            "[nltk_data]   Unzipping corpora/stopwords.zip.\n"
          ],
          "name": "stdout"
        }
      ]
    },
    {
      "cell_type": "code",
      "metadata": {
        "id": "gKk5OUDTS7mt"
      },
      "source": [
        "def remove_ind_stopwords(narasi):\n",
        "    token_text = nltk.word_tokenize(narasi)\n",
        "    remove_stop = [word for word in token_text if word not in ind_stopwords]\n",
        "    join_text = ' '.join(remove_stop)\n",
        "    return join_text"
      ],
      "execution_count": 15,
      "outputs": []
    },
    {
      "cell_type": "code",
      "metadata": {
        "id": "9GDGXpNRS72M",
        "colab": {
          "base_uri": "https://localhost:8080/",
          "height": 242
        },
        "outputId": "cd7ea91f-6540-40d3-de0b-64a03e177284"
      },
      "source": [
        "nltk.download('punkt')\n",
        "stopword_combine_data = clean_combine_data.copy()\n",
        "stopword_combine_data['narasi'] = data.narasi.apply(lambda x : remove_ind_stopwords(x))\n",
        "stopword_combine_data.head()"
      ],
      "execution_count": 16,
      "outputs": [
        {
          "output_type": "stream",
          "text": [
            "[nltk_data] Downloading package punkt to /root/nltk_data...\n",
            "[nltk_data]   Unzipping tokenizers/punkt.zip.\n"
          ],
          "name": "stdout"
        },
        {
          "output_type": "execute_result",
          "data": {
            "text/html": [
              "<div>\n",
              "<style scoped>\n",
              "    .dataframe tbody tr th:only-of-type {\n",
              "        vertical-align: middle;\n",
              "    }\n",
              "\n",
              "    .dataframe tbody tr th {\n",
              "        vertical-align: top;\n",
              "    }\n",
              "\n",
              "    .dataframe thead th {\n",
              "        text-align: right;\n",
              "    }\n",
              "</style>\n",
              "<table border=\"1\" class=\"dataframe\">\n",
              "  <thead>\n",
              "    <tr style=\"text-align: right;\">\n",
              "      <th></th>\n",
              "      <th>ID</th>\n",
              "      <th>label</th>\n",
              "      <th>tanggal</th>\n",
              "      <th>judul</th>\n",
              "      <th>narasi</th>\n",
              "      <th>nama file gambar</th>\n",
              "    </tr>\n",
              "  </thead>\n",
              "  <tbody>\n",
              "    <tr>\n",
              "      <th>0</th>\n",
              "      <td>71</td>\n",
              "      <td>1</td>\n",
              "      <td>2020-08-17 00:00:00</td>\n",
              "      <td>Pemakaian Masker Menyebabkan Penyakit Legionna...</td>\n",
              "      <td>A caller to a radio talk show recently shared ...</td>\n",
              "      <td>71.jpg</td>\n",
              "    </tr>\n",
              "    <tr>\n",
              "      <th>1</th>\n",
              "      <td>461</td>\n",
              "      <td>1</td>\n",
              "      <td>2020-07-17 00:00:00</td>\n",
              "      <td>Instruksi Gubernur Jateng tentang penilangan  ...</td>\n",
              "      <td>Yth.Seluruh Anggota Grup Sesuai Instruksi Gube...</td>\n",
              "      <td>461.png</td>\n",
              "    </tr>\n",
              "    <tr>\n",
              "      <th>2</th>\n",
              "      <td>495</td>\n",
              "      <td>1</td>\n",
              "      <td>2020-07-13 00:00:00</td>\n",
              "      <td>Foto Jim Rohn: Jokowi adalah presiden terbaik ...</td>\n",
              "      <td>Jokowi presiden terbaik dlm sejarah bangsa Ind...</td>\n",
              "      <td>495.png</td>\n",
              "    </tr>\n",
              "    <tr>\n",
              "      <th>3</th>\n",
              "      <td>550</td>\n",
              "      <td>1</td>\n",
              "      <td>2020-07-08 00:00:00</td>\n",
              "      <td>ini bukan politik, tapi kenyataan Pak Jokowi b...</td>\n",
              "      <td>Maaf Mas2 Mbak2 , politik , kenyataan Pak Joko...</td>\n",
              "      <td>550.png</td>\n",
              "    </tr>\n",
              "    <tr>\n",
              "      <th>4</th>\n",
              "      <td>681</td>\n",
              "      <td>1</td>\n",
              "      <td>2020-06-24 00:00:00</td>\n",
              "      <td>Foto Kadrun kalo lihat foto ini panas dingin</td>\n",
              "      <td>Kadrun kalo lihat foto panas dingin . .</td>\n",
              "      <td>681.jpg</td>\n",
              "    </tr>\n",
              "  </tbody>\n",
              "</table>\n",
              "</div>"
            ],
            "text/plain": [
              "    ID  ...  nama file gambar\n",
              "0   71  ...            71.jpg\n",
              "1  461  ...           461.png\n",
              "2  495  ...           495.png\n",
              "3  550  ...           550.png\n",
              "4  681  ...           681.jpg\n",
              "\n",
              "[5 rows x 6 columns]"
            ]
          },
          "metadata": {
            "tags": []
          },
          "execution_count": 16
        }
      ]
    },
    {
      "cell_type": "code",
      "metadata": {
        "id": "BatsIvnlS70j",
        "colab": {
          "base_uri": "https://localhost:8080/",
          "height": 206
        },
        "outputId": "b92bb78c-403c-457c-8785-db6c308fd0df"
      },
      "source": [
        "from itertools import chain\n",
        "from collections import Counter\n",
        "\n",
        "list_words = stopword_combine_data['narasi'].str.split()\n",
        "list_words_merge = list(chain(*list_words))\n",
        "\n",
        "d = Counter(list_words_merge)\n",
        "df = pd.DataFrame(data=d, index=['count'])\n",
        "top_common_words = df.T.sort_values(by=['count'], ascending=False).reset_index().head(50)\n",
        "top_common_words.head()"
      ],
      "execution_count": 17,
      "outputs": [
        {
          "output_type": "execute_result",
          "data": {
            "text/html": [
              "<div>\n",
              "<style scoped>\n",
              "    .dataframe tbody tr th:only-of-type {\n",
              "        vertical-align: middle;\n",
              "    }\n",
              "\n",
              "    .dataframe tbody tr th {\n",
              "        vertical-align: top;\n",
              "    }\n",
              "\n",
              "    .dataframe thead th {\n",
              "        text-align: right;\n",
              "    }\n",
              "</style>\n",
              "<table border=\"1\" class=\"dataframe\">\n",
              "  <thead>\n",
              "    <tr style=\"text-align: right;\">\n",
              "      <th></th>\n",
              "      <th>index</th>\n",
              "      <th>count</th>\n",
              "    </tr>\n",
              "  </thead>\n",
              "  <tbody>\n",
              "    <tr>\n",
              "      <th>0</th>\n",
              "      <td>,</td>\n",
              "      <td>5040</td>\n",
              "    </tr>\n",
              "    <tr>\n",
              "      <th>1</th>\n",
              "      <td>.</td>\n",
              "      <td>4458</td>\n",
              "    </tr>\n",
              "    <tr>\n",
              "      <th>2</th>\n",
              "      <td>!</td>\n",
              "      <td>1119</td>\n",
              "    </tr>\n",
              "    <tr>\n",
              "      <th>3</th>\n",
              "      <td>?</td>\n",
              "      <td>855</td>\n",
              "    </tr>\n",
              "    <tr>\n",
              "      <th>4</th>\n",
              "      <td>(</td>\n",
              "      <td>713</td>\n",
              "    </tr>\n",
              "  </tbody>\n",
              "</table>\n",
              "</div>"
            ],
            "text/plain": [
              "  index  count\n",
              "0     ,   5040\n",
              "1     .   4458\n",
              "2     !   1119\n",
              "3     ?    855\n",
              "4     (    713"
            ]
          },
          "metadata": {
            "tags": []
          },
          "execution_count": 17
        }
      ]
    },
    {
      "cell_type": "code",
      "metadata": {
        "id": "hEBDqlZqS7yg",
        "colab": {
          "base_uri": "https://localhost:8080/",
          "height": 1000
        },
        "outputId": "0d68ab6a-380c-4bd8-8494-d02cd86220fa"
      },
      "source": [
        "top_common_words"
      ],
      "execution_count": 18,
      "outputs": [
        {
          "output_type": "execute_result",
          "data": {
            "text/html": [
              "<div>\n",
              "<style scoped>\n",
              "    .dataframe tbody tr th:only-of-type {\n",
              "        vertical-align: middle;\n",
              "    }\n",
              "\n",
              "    .dataframe tbody tr th {\n",
              "        vertical-align: top;\n",
              "    }\n",
              "\n",
              "    .dataframe thead th {\n",
              "        text-align: right;\n",
              "    }\n",
              "</style>\n",
              "<table border=\"1\" class=\"dataframe\">\n",
              "  <thead>\n",
              "    <tr style=\"text-align: right;\">\n",
              "      <th></th>\n",
              "      <th>index</th>\n",
              "      <th>count</th>\n",
              "    </tr>\n",
              "  </thead>\n",
              "  <tbody>\n",
              "    <tr>\n",
              "      <th>0</th>\n",
              "      <td>,</td>\n",
              "      <td>5040</td>\n",
              "    </tr>\n",
              "    <tr>\n",
              "      <th>1</th>\n",
              "      <td>.</td>\n",
              "      <td>4458</td>\n",
              "    </tr>\n",
              "    <tr>\n",
              "      <th>2</th>\n",
              "      <td>!</td>\n",
              "      <td>1119</td>\n",
              "    </tr>\n",
              "    <tr>\n",
              "      <th>3</th>\n",
              "      <td>?</td>\n",
              "      <td>855</td>\n",
              "    </tr>\n",
              "    <tr>\n",
              "      <th>4</th>\n",
              "      <td>(</td>\n",
              "      <td>713</td>\n",
              "    </tr>\n",
              "    <tr>\n",
              "      <th>5</th>\n",
              "      <td>)</td>\n",
              "      <td>710</td>\n",
              "    </tr>\n",
              "    <tr>\n",
              "      <th>6</th>\n",
              "      <td>”</td>\n",
              "      <td>693</td>\n",
              "    </tr>\n",
              "    <tr>\n",
              "      <th>7</th>\n",
              "      <td>:</td>\n",
              "      <td>669</td>\n",
              "    </tr>\n",
              "    <tr>\n",
              "      <th>8</th>\n",
              "      <td>yg</td>\n",
              "      <td>667</td>\n",
              "    </tr>\n",
              "    <tr>\n",
              "      <th>9</th>\n",
              "      <td>“</td>\n",
              "      <td>563</td>\n",
              "    </tr>\n",
              "    <tr>\n",
              "      <th>10</th>\n",
              "      <td>#</td>\n",
              "      <td>425</td>\n",
              "    </tr>\n",
              "    <tr>\n",
              "      <th>11</th>\n",
              "      <td>Indonesia</td>\n",
              "      <td>413</td>\n",
              "    </tr>\n",
              "    <tr>\n",
              "      <th>12</th>\n",
              "      <td>’</td>\n",
              "      <td>337</td>\n",
              "    </tr>\n",
              "    <tr>\n",
              "      <th>13</th>\n",
              "      <td>orang</td>\n",
              "      <td>297</td>\n",
              "    </tr>\n",
              "    <tr>\n",
              "      <th>14</th>\n",
              "      <td>Di</td>\n",
              "      <td>203</td>\n",
              "    </tr>\n",
              "    <tr>\n",
              "      <th>15</th>\n",
              "      <td>Jokowi</td>\n",
              "      <td>201</td>\n",
              "    </tr>\n",
              "    <tr>\n",
              "      <th>16</th>\n",
              "      <td>the</td>\n",
              "      <td>199</td>\n",
              "    </tr>\n",
              "    <tr>\n",
              "      <th>17</th>\n",
              "      <td>Ini</td>\n",
              "      <td>184</td>\n",
              "    </tr>\n",
              "    <tr>\n",
              "      <th>18</th>\n",
              "      <td>&amp;</td>\n",
              "      <td>180</td>\n",
              "    </tr>\n",
              "    <tr>\n",
              "      <th>19</th>\n",
              "      <td>virus</td>\n",
              "      <td>180</td>\n",
              "    </tr>\n",
              "    <tr>\n",
              "      <th>20</th>\n",
              "      <td>@</td>\n",
              "      <td>169</td>\n",
              "    </tr>\n",
              "    <tr>\n",
              "      <th>21</th>\n",
              "      <td>Jakarta</td>\n",
              "      <td>147</td>\n",
              "    </tr>\n",
              "    <tr>\n",
              "      <th>22</th>\n",
              "      <td>…</td>\n",
              "      <td>144</td>\n",
              "    </tr>\n",
              "    <tr>\n",
              "      <th>23</th>\n",
              "      <td>China</td>\n",
              "      <td>142</td>\n",
              "    </tr>\n",
              "    <tr>\n",
              "      <th>24</th>\n",
              "      <td>1</td>\n",
              "      <td>142</td>\n",
              "    </tr>\n",
              "    <tr>\n",
              "      <th>25</th>\n",
              "      <td>–</td>\n",
              "      <td>140</td>\n",
              "    </tr>\n",
              "    <tr>\n",
              "      <th>26</th>\n",
              "      <td>2</td>\n",
              "      <td>138</td>\n",
              "    </tr>\n",
              "    <tr>\n",
              "      <th>27</th>\n",
              "      <td>anak</td>\n",
              "      <td>138</td>\n",
              "    </tr>\n",
              "    <tr>\n",
              "      <th>28</th>\n",
              "      <td>DI</td>\n",
              "      <td>137</td>\n",
              "    </tr>\n",
              "    <tr>\n",
              "      <th>29</th>\n",
              "      <td>nya</td>\n",
              "      <td>134</td>\n",
              "    </tr>\n",
              "    <tr>\n",
              "      <th>30</th>\n",
              "      <td>Presiden</td>\n",
              "      <td>134</td>\n",
              "    </tr>\n",
              "    <tr>\n",
              "      <th>31</th>\n",
              "      <td>Dan</td>\n",
              "      <td>131</td>\n",
              "    </tr>\n",
              "    <tr>\n",
              "      <th>32</th>\n",
              "      <td>ya</td>\n",
              "      <td>130</td>\n",
              "    </tr>\n",
              "    <tr>\n",
              "      <th>33</th>\n",
              "      <td>Saya</td>\n",
              "      <td>130</td>\n",
              "    </tr>\n",
              "    <tr>\n",
              "      <th>34</th>\n",
              "      <td>Islam</td>\n",
              "      <td>129</td>\n",
              "    </tr>\n",
              "    <tr>\n",
              "      <th>35</th>\n",
              "      <td>negara</td>\n",
              "      <td>119</td>\n",
              "    </tr>\n",
              "    <tr>\n",
              "      <th>36</th>\n",
              "      <td>Allah</td>\n",
              "      <td>117</td>\n",
              "    </tr>\n",
              "    <tr>\n",
              "      <th>37</th>\n",
              "      <td>foto</td>\n",
              "      <td>113</td>\n",
              "    </tr>\n",
              "    <tr>\n",
              "      <th>38</th>\n",
              "      <td>Yang</td>\n",
              "      <td>112</td>\n",
              "    </tr>\n",
              "    <tr>\n",
              "      <th>39</th>\n",
              "      <td>warga</td>\n",
              "      <td>110</td>\n",
              "    </tr>\n",
              "    <tr>\n",
              "      <th>40</th>\n",
              "      <td>of</td>\n",
              "      <td>107</td>\n",
              "    </tr>\n",
              "    <tr>\n",
              "      <th>41</th>\n",
              "      <td>PKI</td>\n",
              "      <td>107</td>\n",
              "    </tr>\n",
              "    <tr>\n",
              "      <th>42</th>\n",
              "      <td>masuk</td>\n",
              "      <td>106</td>\n",
              "    </tr>\n",
              "    <tr>\n",
              "      <th>43</th>\n",
              "      <td>Ada</td>\n",
              "      <td>106</td>\n",
              "    </tr>\n",
              "    <tr>\n",
              "      <th>44</th>\n",
              "      <td>meninggal</td>\n",
              "      <td>105</td>\n",
              "    </tr>\n",
              "    <tr>\n",
              "      <th>45</th>\n",
              "      <td>salah</td>\n",
              "      <td>105</td>\n",
              "    </tr>\n",
              "    <tr>\n",
              "      <th>46</th>\n",
              "      <td>3</td>\n",
              "      <td>103</td>\n",
              "    </tr>\n",
              "    <tr>\n",
              "      <th>47</th>\n",
              "      <td>berita</td>\n",
              "      <td>101</td>\n",
              "    </tr>\n",
              "    <tr>\n",
              "      <th>48</th>\n",
              "      <td>TNI</td>\n",
              "      <td>101</td>\n",
              "    </tr>\n",
              "    <tr>\n",
              "      <th>49</th>\n",
              "      <td>Anda</td>\n",
              "      <td>98</td>\n",
              "    </tr>\n",
              "  </tbody>\n",
              "</table>\n",
              "</div>"
            ],
            "text/plain": [
              "        index  count\n",
              "0           ,   5040\n",
              "1           .   4458\n",
              "2           !   1119\n",
              "3           ?    855\n",
              "4           (    713\n",
              "5           )    710\n",
              "6           ”    693\n",
              "7           :    669\n",
              "8          yg    667\n",
              "9           “    563\n",
              "10          #    425\n",
              "11  Indonesia    413\n",
              "12          ’    337\n",
              "13      orang    297\n",
              "14         Di    203\n",
              "15     Jokowi    201\n",
              "16        the    199\n",
              "17        Ini    184\n",
              "18          &    180\n",
              "19      virus    180\n",
              "20          @    169\n",
              "21    Jakarta    147\n",
              "22          …    144\n",
              "23      China    142\n",
              "24          1    142\n",
              "25          –    140\n",
              "26          2    138\n",
              "27       anak    138\n",
              "28         DI    137\n",
              "29        nya    134\n",
              "30   Presiden    134\n",
              "31        Dan    131\n",
              "32         ya    130\n",
              "33       Saya    130\n",
              "34      Islam    129\n",
              "35     negara    119\n",
              "36      Allah    117\n",
              "37       foto    113\n",
              "38       Yang    112\n",
              "39      warga    110\n",
              "40         of    107\n",
              "41        PKI    107\n",
              "42      masuk    106\n",
              "43        Ada    106\n",
              "44  meninggal    105\n",
              "45      salah    105\n",
              "46          3    103\n",
              "47     berita    101\n",
              "48        TNI    101\n",
              "49       Anda     98"
            ]
          },
          "metadata": {
            "tags": []
          },
          "execution_count": 18
        }
      ]
    },
    {
      "cell_type": "code",
      "metadata": {
        "id": "YdGgwOQbUVZU",
        "colab": {
          "base_uri": "https://localhost:8080/",
          "height": 567
        },
        "outputId": "954bc712-15f6-46af-e30a-85e36f0c996b"
      },
      "source": [
        "plt.figure(figsize=(15,7))\n",
        "sns.set(style=\"darkgrid\")\n",
        "sns.barplot(x=\"index\", y='count', data=top_common_words)\n",
        "plt.xticks(rotation=60)"
      ],
      "execution_count": 19,
      "outputs": [
        {
          "output_type": "execute_result",
          "data": {
            "text/plain": [
              "(array([ 0,  1,  2,  3,  4,  5,  6,  7,  8,  9, 10, 11, 12, 13, 14, 15, 16,\n",
              "        17, 18, 19, 20, 21, 22, 23, 24, 25, 26, 27, 28, 29, 30, 31, 32, 33,\n",
              "        34, 35, 36, 37, 38, 39, 40, 41, 42, 43, 44, 45, 46, 47, 48, 49]),\n",
              " <a list of 50 Text major ticklabel objects>)"
            ]
          },
          "metadata": {
            "tags": []
          },
          "execution_count": 19
        },
        {
          "output_type": "display_data",
          "data": {
            "image/png": "[encoded data removed]",
            "text/plain": [
              "<Figure size 1080x504 with 1 Axes>"
            ]
          },
          "metadata": {
            "tags": [],
            "needs_background": "light"
          }
        }
      ]
    },
    {
      "cell_type": "code",
      "metadata": {
        "id": "fxx2CrvlUViq"
      },
      "source": [
        "#lemmatizion\n",
        "\n",
        "from nltk.stem import WordNetLemmatizer\n",
        "from sklearn.feature_extraction.text import TfidfVectorizer, CountVectorizer"
      ],
      "execution_count": 20,
      "outputs": []
    },
    {
      "cell_type": "code",
      "metadata": {
        "id": "QD6d3osiUVvX",
        "colab": {
          "base_uri": "https://localhost:8080/",
          "height": 242
        },
        "outputId": "dd128c3e-274e-4927-c237-8a3ccce293b5"
      },
      "source": [
        "nltk.download('wordnet')\n",
        "lemm = WordNetLemmatizer()\n",
        "\n",
        "def word_lemmatizer(text):\n",
        "    token_text = nltk.word_tokenize(text)\n",
        "    remove_stop = [lemm.lemmatize(w) for w in token_text]\n",
        "    join_text = ' '.join(remove_stop)\n",
        "    return join_text\n",
        "\n",
        "lemmatize_data = stopword_combine_data.copy()\n",
        "lemmatize_data['narasi'] = data.narasi.apply(lambda x : word_lemmatizer(x))\n",
        "lemmatize_data.head()"
      ],
      "execution_count": 21,
      "outputs": [
        {
          "output_type": "stream",
          "text": [
            "[nltk_data] Downloading package wordnet to /root/nltk_data...\n",
            "[nltk_data]   Unzipping corpora/wordnet.zip.\n"
          ],
          "name": "stdout"
        },
        {
          "output_type": "execute_result",
          "data": {
            "text/html": [
              "<div>\n",
              "<style scoped>\n",
              "    .dataframe tbody tr th:only-of-type {\n",
              "        vertical-align: middle;\n",
              "    }\n",
              "\n",
              "    .dataframe tbody tr th {\n",
              "        vertical-align: top;\n",
              "    }\n",
              "\n",
              "    .dataframe thead th {\n",
              "        text-align: right;\n",
              "    }\n",
              "</style>\n",
              "<table border=\"1\" class=\"dataframe\">\n",
              "  <thead>\n",
              "    <tr style=\"text-align: right;\">\n",
              "      <th></th>\n",
              "      <th>ID</th>\n",
              "      <th>label</th>\n",
              "      <th>tanggal</th>\n",
              "      <th>judul</th>\n",
              "      <th>narasi</th>\n",
              "      <th>nama file gambar</th>\n",
              "    </tr>\n",
              "  </thead>\n",
              "  <tbody>\n",
              "    <tr>\n",
              "      <th>0</th>\n",
              "      <td>71</td>\n",
              "      <td>1</td>\n",
              "      <td>2020-08-17 00:00:00</td>\n",
              "      <td>Pemakaian Masker Menyebabkan Penyakit Legionna...</td>\n",
              "      <td>A caller to a radio talk show recently shared ...</td>\n",
              "      <td>71.jpg</td>\n",
              "    </tr>\n",
              "    <tr>\n",
              "      <th>1</th>\n",
              "      <td>461</td>\n",
              "      <td>1</td>\n",
              "      <td>2020-07-17 00:00:00</td>\n",
              "      <td>Instruksi Gubernur Jateng tentang penilangan  ...</td>\n",
              "      <td>Yth.Seluruh Anggota Grup Sesuai Instruksi Gube...</td>\n",
              "      <td>461.png</td>\n",
              "    </tr>\n",
              "    <tr>\n",
              "      <th>2</th>\n",
              "      <td>495</td>\n",
              "      <td>1</td>\n",
              "      <td>2020-07-13 00:00:00</td>\n",
              "      <td>Foto Jim Rohn: Jokowi adalah presiden terbaik ...</td>\n",
              "      <td>Jokowi adalah presiden terbaik dlm sejarah ban...</td>\n",
              "      <td>495.png</td>\n",
              "    </tr>\n",
              "    <tr>\n",
              "      <th>3</th>\n",
              "      <td>550</td>\n",
              "      <td>1</td>\n",
              "      <td>2020-07-08 00:00:00</td>\n",
              "      <td>ini bukan politik, tapi kenyataan Pak Jokowi b...</td>\n",
              "      <td>Maaf Mas2 dan Mbak2 , ini bukan politik , tapi...</td>\n",
              "      <td>550.png</td>\n",
              "    </tr>\n",
              "    <tr>\n",
              "      <th>4</th>\n",
              "      <td>681</td>\n",
              "      <td>1</td>\n",
              "      <td>2020-06-24 00:00:00</td>\n",
              "      <td>Foto Kadrun kalo lihat foto ini panas dingin</td>\n",
              "      <td>Kadrun kalo lihat foto ini panas dingin . .</td>\n",
              "      <td>681.jpg</td>\n",
              "    </tr>\n",
              "  </tbody>\n",
              "</table>\n",
              "</div>"
            ],
            "text/plain": [
              "    ID  ...  nama file gambar\n",
              "0   71  ...            71.jpg\n",
              "1  461  ...           461.png\n",
              "2  495  ...           495.png\n",
              "3  550  ...           550.png\n",
              "4  681  ...           681.jpg\n",
              "\n",
              "[5 rows x 6 columns]"
            ]
          },
          "metadata": {
            "tags": []
          },
          "execution_count": 21
        }
      ]
    },
    {
      "cell_type": "code",
      "metadata": {
        "id": "lRz4bTprVB4e"
      },
      "source": [
        "string = ' '.join(lemmatize_data['narasi'])\n",
        "str_val = string.split(\" \")"
      ],
      "execution_count": 22,
      "outputs": []
    },
    {
      "cell_type": "code",
      "metadata": {
        "id": "fRzYvno0VCER",
        "colab": {
          "base_uri": "https://localhost:8080/",
          "height": 206
        },
        "outputId": "e68bcb03-77be-48b2-adea-a8ebf13a9269"
      },
      "source": [
        "\n",
        "\n",
        "#unigram analysis\n",
        "data_unigram=(pd.Series(nltk.ngrams(str_val, 1)).value_counts())[:30]\n",
        "\n",
        "data_unigram_df=pd.DataFrame(data_unigram)\n",
        "data_unigram_df = data_unigram_df.reset_index()\n",
        "data_unigram_df = data_unigram_df.rename(columns={\"index\": \"key\", 0: \"value\"})\n",
        "data_unigram_df.head()\n",
        "\n",
        "\n"
      ],
      "execution_count": 23,
      "outputs": [
        {
          "output_type": "execute_result",
          "data": {
            "text/html": [
              "<div>\n",
              "<style scoped>\n",
              "    .dataframe tbody tr th:only-of-type {\n",
              "        vertical-align: middle;\n",
              "    }\n",
              "\n",
              "    .dataframe tbody tr th {\n",
              "        vertical-align: top;\n",
              "    }\n",
              "\n",
              "    .dataframe thead th {\n",
              "        text-align: right;\n",
              "    }\n",
              "</style>\n",
              "<table border=\"1\" class=\"dataframe\">\n",
              "  <thead>\n",
              "    <tr style=\"text-align: right;\">\n",
              "      <th></th>\n",
              "      <th>key</th>\n",
              "      <th>value</th>\n",
              "    </tr>\n",
              "  </thead>\n",
              "  <tbody>\n",
              "    <tr>\n",
              "      <th>0</th>\n",
              "      <td>(,,)</td>\n",
              "      <td>5040</td>\n",
              "    </tr>\n",
              "    <tr>\n",
              "      <th>1</th>\n",
              "      <td>(.,)</td>\n",
              "      <td>4458</td>\n",
              "    </tr>\n",
              "    <tr>\n",
              "      <th>2</th>\n",
              "      <td>(di,)</td>\n",
              "      <td>2279</td>\n",
              "    </tr>\n",
              "    <tr>\n",
              "      <th>3</th>\n",
              "      <td>(yang,)</td>\n",
              "      <td>1589</td>\n",
              "    </tr>\n",
              "    <tr>\n",
              "      <th>4</th>\n",
              "      <td>(dan,)</td>\n",
              "      <td>1587</td>\n",
              "    </tr>\n",
              "  </tbody>\n",
              "</table>\n",
              "</div>"
            ],
            "text/plain": [
              "       key  value\n",
              "0     (,,)   5040\n",
              "1     (.,)   4458\n",
              "2    (di,)   2279\n",
              "3  (yang,)   1589\n",
              "4   (dan,)   1587"
            ]
          },
          "metadata": {
            "tags": []
          },
          "execution_count": 23
        }
      ]
    },
    {
      "cell_type": "code",
      "metadata": {
        "id": "wrzGx_OfVCJw",
        "colab": {
          "base_uri": "https://localhost:8080/",
          "height": 575
        },
        "outputId": "60d46c6a-7cbf-4cd7-841f-37fc0d8468ae"
      },
      "source": [
        "#unigram\n",
        "plt.figure(figsize = (16,9))\n",
        "sns.barplot(x='value',y='key', data=data_unigram_df)"
      ],
      "execution_count": 24,
      "outputs": [
        {
          "output_type": "execute_result",
          "data": {
            "text/plain": [
              "<matplotlib.axes._subplots.AxesSubplot at 0x7f09259b4ed0>"
            ]
          },
          "metadata": {
            "tags": []
          },
          "execution_count": 24
        },
        {
          "output_type": "display_data",
          "data": {
            "image/png": "[encoded data removed]",
            "text/plain": [
              "<Figure size 1152x648 with 1 Axes>"
            ]
          },
          "metadata": {
            "tags": []
          }
        }
      ]
    },
    {
      "cell_type": "code",
      "metadata": {
        "id": "VosxE8G7VCHe",
        "colab": {
          "base_uri": "https://localhost:8080/",
          "height": 206
        },
        "outputId": "2f6007f0-0fa6-44c0-f333-e50bdc709c9a"
      },
      "source": [
        "#modelling\n",
        "model_data = lemmatize_data.copy()\n",
        "\n",
        "\n",
        "model_data['combine_text'] =   model_data['narasi']\n",
        "\n",
        "del model_data['judul']\n",
        "del model_data['tanggal']\n",
        "del model_data['narasi']\n",
        "del model_data['nama file gambar']\n",
        "model_data.head()"
      ],
      "execution_count": 25,
      "outputs": [
        {
          "output_type": "execute_result",
          "data": {
            "text/html": [
              "<div>\n",
              "<style scoped>\n",
              "    .dataframe tbody tr th:only-of-type {\n",
              "        vertical-align: middle;\n",
              "    }\n",
              "\n",
              "    .dataframe tbody tr th {\n",
              "        vertical-align: top;\n",
              "    }\n",
              "\n",
              "    .dataframe thead th {\n",
              "        text-align: right;\n",
              "    }\n",
              "</style>\n",
              "<table border=\"1\" class=\"dataframe\">\n",
              "  <thead>\n",
              "    <tr style=\"text-align: right;\">\n",
              "      <th></th>\n",
              "      <th>ID</th>\n",
              "      <th>label</th>\n",
              "      <th>combine_text</th>\n",
              "    </tr>\n",
              "  </thead>\n",
              "  <tbody>\n",
              "    <tr>\n",
              "      <th>0</th>\n",
              "      <td>71</td>\n",
              "      <td>1</td>\n",
              "      <td>A caller to a radio talk show recently shared ...</td>\n",
              "    </tr>\n",
              "    <tr>\n",
              "      <th>1</th>\n",
              "      <td>461</td>\n",
              "      <td>1</td>\n",
              "      <td>Yth.Seluruh Anggota Grup Sesuai Instruksi Gube...</td>\n",
              "    </tr>\n",
              "    <tr>\n",
              "      <th>2</th>\n",
              "      <td>495</td>\n",
              "      <td>1</td>\n",
              "      <td>Jokowi adalah presiden terbaik dlm sejarah ban...</td>\n",
              "    </tr>\n",
              "    <tr>\n",
              "      <th>3</th>\n",
              "      <td>550</td>\n",
              "      <td>1</td>\n",
              "      <td>Maaf Mas2 dan Mbak2 , ini bukan politik , tapi...</td>\n",
              "    </tr>\n",
              "    <tr>\n",
              "      <th>4</th>\n",
              "      <td>681</td>\n",
              "      <td>1</td>\n",
              "      <td>Kadrun kalo lihat foto ini panas dingin . .</td>\n",
              "    </tr>\n",
              "  </tbody>\n",
              "</table>\n",
              "</div>"
            ],
            "text/plain": [
              "    ID  label                                       combine_text\n",
              "0   71      1  A caller to a radio talk show recently shared ...\n",
              "1  461      1  Yth.Seluruh Anggota Grup Sesuai Instruksi Gube...\n",
              "2  495      1  Jokowi adalah presiden terbaik dlm sejarah ban...\n",
              "3  550      1  Maaf Mas2 dan Mbak2 , ini bukan politik , tapi...\n",
              "4  681      1        Kadrun kalo lihat foto ini panas dingin . ."
            ]
          },
          "metadata": {
            "tags": []
          },
          "execution_count": 25
        }
      ]
    },
    {
      "cell_type": "code",
      "metadata": {
        "id": "JYMf8v068XJZ"
      },
      "source": [
        "hoax = model_data.query('label==1')\n",
        "rill = model_data.query('label==0')"
      ],
      "execution_count": 26,
      "outputs": []
    },
    {
      "cell_type": "code",
      "metadata": {
        "id": "UGzSyKbm8XHD"
      },
      "source": [
        "from sklearn.feature_extraction.text import CountVectorizer\n",
        "vectorizer = CountVectorizer()"
      ],
      "execution_count": 27,
      "outputs": []
    },
    {
      "cell_type": "code",
      "metadata": {
        "id": "r0AYZMjt8XE7",
        "colab": {
          "base_uri": "https://localhost:8080/"
        },
        "outputId": "3d6b40a4-83a7-4d0e-c341-de4d5b11d17c"
      },
      "source": [
        "data_vec = vectorizer.fit_transform(model_data['combine_text'])\n",
        "data_vec"
      ],
      "execution_count": 28,
      "outputs": [
        {
          "output_type": "execute_result",
          "data": {
            "text/plain": [
              "<4231x18609 sparse matrix of type '<class 'numpy.int64'>'\n",
              "\twith 95765 stored elements in Compressed Sparse Row format>"
            ]
          },
          "metadata": {
            "tags": []
          },
          "execution_count": 28
        }
      ]
    },
    {
      "cell_type": "code",
      "metadata": {
        "id": "vSW1SHIk8XA3",
        "colab": {
          "base_uri": "https://localhost:8080/"
        },
        "outputId": "00334206-d1f3-4203-bc2e-d74a2a543ffc"
      },
      "source": [
        "print(model_data['combine_text'][1])#mau liat data urut 2"
      ],
      "execution_count": 29,
      "outputs": [
        {
          "output_type": "stream",
          "text": [
            "Yth.Seluruh Anggota Grup Sesuai Instruksi Gubernur Jawa Tengah Hasil Rapat Tim Gugus Tugas Covid 19 Jateng sbb :\n"
          ],
          "name": "stdout"
        }
      ]
    },
    {
      "cell_type": "code",
      "metadata": {
        "id": "1eLyicOJ-IV7"
      },
      "source": [
        "ekstraksi_kata = vectorizer.get_feature_names()#liat hasil combinetext yg di vetorisasi"
      ],
      "execution_count": 30,
      "outputs": []
    },
    {
      "cell_type": "code",
      "metadata": {
        "id": "u-YoVxJ2-IpS"
      },
      "source": [
        "random = model_data.sample(frac=1)#random sample"
      ],
      "execution_count": 31,
      "outputs": []
    },
    {
      "cell_type": "code",
      "metadata": {
        "id": "t6Jkfh8O-InX"
      },
      "source": [
        "train = random[:3385]#pembagian data train 80% dan test 20%\n",
        "test = random[846:]"
      ],
      "execution_count": 32,
      "outputs": []
    },
    {
      "cell_type": "code",
      "metadata": {
        "id": "A9uyxwcx-Ilx",
        "colab": {
          "base_uri": "https://localhost:8080/"
        },
        "outputId": "1dcc5c56-7080-459b-8c37-9019f5ca3382"
      },
      "source": [
        "train1 = vectorizer.fit_transform(train['combine_text'])#training pada data train\n",
        "train1"
      ],
      "execution_count": 33,
      "outputs": [
        {
          "output_type": "execute_result",
          "data": {
            "text/plain": [
              "<3385x16288 sparse matrix of type '<class 'numpy.int64'>'\n",
              "\twith 76301 stored elements in Compressed Sparse Row format>"
            ]
          },
          "metadata": {
            "tags": []
          },
          "execution_count": 33
        }
      ]
    },
    {
      "cell_type": "code",
      "metadata": {
        "id": "GyqBgi9B-Ijk",
        "colab": {
          "base_uri": "https://localhost:8080/"
        },
        "outputId": "40d5a18d-f6d2-4c09-a2ee-dba02bc3024c"
      },
      "source": [
        "test1 = vectorizer.transform(test['combine_text'])#training pada data test\n",
        "test1"
      ],
      "execution_count": 34,
      "outputs": [
        {
          "output_type": "execute_result",
          "data": {
            "text/plain": [
              "<3385x16288 sparse matrix of type '<class 'numpy.int64'>'\n",
              "\twith 73956 stored elements in Compressed Sparse Row format>"
            ]
          },
          "metadata": {
            "tags": []
          },
          "execution_count": 34
        }
      ]
    },
    {
      "cell_type": "code",
      "metadata": {
        "id": "Uy9kfCLkA3ZP"
      },
      "source": [
        "train_label = train['label']#ambil label hoax atau rill\n",
        "test_label = test['label']"
      ],
      "execution_count": 35,
      "outputs": []
    },
    {
      "cell_type": "code",
      "metadata": {
        "id": "zbTSuTzsA3pU"
      },
      "source": [
        "from sklearn.ensemble import RandomForestClassifier #klasifikasi use randomforest\n",
        "random_forest = RandomForestClassifier(n_estimators=150)"
      ],
      "execution_count": 36,
      "outputs": []
    },
    {
      "cell_type": "code",
      "metadata": {
        "id": "zAWSu3PrA3nW",
        "colab": {
          "base_uri": "https://localhost:8080/"
        },
        "outputId": "34ef87b4-ba1b-4a20-9801-e2a101a2427a"
      },
      "source": [
        "random_forest.fit(train1, train_label) #lakukan traing randomforest yang sudah ditransform"
      ],
      "execution_count": 37,
      "outputs": [
        {
          "output_type": "execute_result",
          "data": {
            "text/plain": [
              "RandomForestClassifier(bootstrap=True, ccp_alpha=0.0, class_weight=None,\n",
              "                       criterion='gini', max_depth=None, max_features='auto',\n",
              "                       max_leaf_nodes=None, max_samples=None,\n",
              "                       min_impurity_decrease=0.0, min_impurity_split=None,\n",
              "                       min_samples_leaf=1, min_samples_split=2,\n",
              "                       min_weight_fraction_leaf=0.0, n_estimators=150,\n",
              "                       n_jobs=None, oob_score=False, random_state=None,\n",
              "                       verbose=0, warm_start=False)"
            ]
          },
          "metadata": {
            "tags": []
          },
          "execution_count": 37
        }
      ]
    },
    {
      "cell_type": "code",
      "metadata": {
        "id": "m9Cn3pp1A3kr",
        "colab": {
          "base_uri": "https://localhost:8080/"
        },
        "outputId": "007a109c-33c2-4042-a8c7-f3202af7ee80"
      },
      "source": [
        "print(\"test skore:\",random_forest.score(test1, test_label))\n",
        "print(\"train skor:\",random_forest.score(train1, train_label))#skor terbaik untuk 3 model yang dicoba"
      ],
      "execution_count": 52,
      "outputs": [
        {
          "output_type": "stream",
          "text": [
            "test skore: 0.9530280649926145\n",
            "train skor: 0.9988183161004431\n"
          ],
          "name": "stdout"
        }
      ]
    },
    {
      "cell_type": "code",
      "metadata": {
        "colab": {
          "base_uri": "https://localhost:8080/"
        },
        "id": "xmQJoyEEcKib",
        "outputId": "3b9a21a3-5bd6-4979-dabe-795b798b872d"
      },
      "source": [
        "from sklearn.naive_bayes import MultinomialNB\n",
        "NB = MultinomialNB()\n",
        "NB.fit(train1, train_label)\n",
        "print(\"test skor:\",NB.score(test1, test_label))\n",
        "print(\"train skor:\",NB.score(train1, train_label))"
      ],
      "execution_count": 53,
      "outputs": [
        {
          "output_type": "stream",
          "text": [
            "test skor: 0.9036927621861152\n",
            "train skor: 0.9364844903988183\n"
          ],
          "name": "stdout"
        }
      ]
    },
    {
      "cell_type": "code",
      "metadata": {
        "colab": {
          "base_uri": "https://localhost:8080/"
        },
        "id": "b70emSnhd9hs",
        "outputId": "74233645-3b33-4d03-a12d-23f42a0f1fe3"
      },
      "source": [
        "from xgboost import XGBClassifier\n",
        "classifier1 = XGBClassifier()\n",
        "classifier1.fit(train1, train_label)\n",
        "print(\"test skor:\",classifier1.score(test1, test_label))\n",
        "print(\"train skor:\",classifier1.score(train1, train_label))"
      ],
      "execution_count": 54,
      "outputs": [
        {
          "output_type": "stream",
          "text": [
            "test skor: 0.8378138847858198\n",
            "train skor: 0.8413589364844904\n"
          ],
          "name": "stdout"
        }
      ]
    },
    {
      "cell_type": "markdown",
      "metadata": {
        "id": "bkGFDiwyebPy"
      },
      "source": [
        "TEST TERHADAP DATA TESTING"
      ]
    },
    {
      "cell_type": "code",
      "metadata": {
        "id": "dWV0_80ugCzL"
      },
      "source": [
        "model_data['label'] = model_data.apply(lambda _: '', axis=1)#menambahkan kolom label"
      ],
      "execution_count": 56,
      "outputs": []
    },
    {
      "cell_type": "code",
      "metadata": {
        "colab": {
          "base_uri": "https://localhost:8080/",
          "height": 206
        },
        "id": "7J48OuRYeuvJ",
        "outputId": "4f883a1e-63a1-4007-b2e1-12102d12ed30"
      },
      "source": [
        "model_data.head()\n",
        "#hanya melanjutkan dari data testing"
      ],
      "execution_count": 57,
      "outputs": [
        {
          "output_type": "execute_result",
          "data": {
            "text/html": [
              "<div>\n",
              "<style scoped>\n",
              "    .dataframe tbody tr th:only-of-type {\n",
              "        vertical-align: middle;\n",
              "    }\n",
              "\n",
              "    .dataframe tbody tr th {\n",
              "        vertical-align: top;\n",
              "    }\n",
              "\n",
              "    .dataframe thead th {\n",
              "        text-align: right;\n",
              "    }\n",
              "</style>\n",
              "<table border=\"1\" class=\"dataframe\">\n",
              "  <thead>\n",
              "    <tr style=\"text-align: right;\">\n",
              "      <th></th>\n",
              "      <th>ID</th>\n",
              "      <th>label</th>\n",
              "      <th>combine_text</th>\n",
              "    </tr>\n",
              "  </thead>\n",
              "  <tbody>\n",
              "    <tr>\n",
              "      <th>0</th>\n",
              "      <td>71</td>\n",
              "      <td></td>\n",
              "      <td>A caller to a radio talk show recently shared ...</td>\n",
              "    </tr>\n",
              "    <tr>\n",
              "      <th>1</th>\n",
              "      <td>461</td>\n",
              "      <td></td>\n",
              "      <td>Yth.Seluruh Anggota Grup Sesuai Instruksi Gube...</td>\n",
              "    </tr>\n",
              "    <tr>\n",
              "      <th>2</th>\n",
              "      <td>495</td>\n",
              "      <td></td>\n",
              "      <td>Jokowi adalah presiden terbaik dlm sejarah ban...</td>\n",
              "    </tr>\n",
              "    <tr>\n",
              "      <th>3</th>\n",
              "      <td>550</td>\n",
              "      <td></td>\n",
              "      <td>Maaf Mas2 dan Mbak2 , ini bukan politik , tapi...</td>\n",
              "    </tr>\n",
              "    <tr>\n",
              "      <th>4</th>\n",
              "      <td>681</td>\n",
              "      <td></td>\n",
              "      <td>Kadrun kalo lihat foto ini panas dingin . .</td>\n",
              "    </tr>\n",
              "  </tbody>\n",
              "</table>\n",
              "</div>"
            ],
            "text/plain": [
              "    ID label                                       combine_text\n",
              "0   71        A caller to a radio talk show recently shared ...\n",
              "1  461        Yth.Seluruh Anggota Grup Sesuai Instruksi Gube...\n",
              "2  495        Jokowi adalah presiden terbaik dlm sejarah ban...\n",
              "3  550        Maaf Mas2 dan Mbak2 , ini bukan politik , tapi...\n",
              "4  681              Kadrun kalo lihat foto ini panas dingin . ."
            ]
          },
          "metadata": {
            "tags": []
          },
          "execution_count": 57
        }
      ]
    }
  ]
}